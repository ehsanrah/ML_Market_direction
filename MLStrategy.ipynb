{
 "cells": [
  {
   "cell_type": "markdown",
   "metadata": {},
   "source": [
    "# MLBacktester"
   ]
  },
  {
   "cell_type": "markdown",
   "metadata": {},
   "source": [
    "In this Trading Strategies the direction of market is predicted with Machine Learning. I will use logistic regression module of scikit-learn"
   ]
  },
  {
   "cell_type": "code",
   "execution_count": 39,
   "metadata": {},
   "outputs": [],
   "source": [
    "import pandas as pd\n",
    "import numpy as np\n",
    "from sklearn.linear_model import LogisticRegression\n",
    "import matplotlib.pyplot as plt\n",
    "plt.style.use(\"seaborn\")"
   ]
  },
  {
   "cell_type": "code",
   "execution_count": 75,
   "metadata": {},
   "outputs": [],
   "source": [
    "class MLBacktester:\n",
    "    \n",
    "    def __init__(self, symbol, start, end, tc ):\n",
    "        self.symbol = symbol\n",
    "        self.start = start\n",
    "        self.end = end\n",
    "        self.tc = tc\n",
    "        self.model = LogisticRegression(C = 1e6, max_iter = 100000, multi_class = \"ovr\")\n",
    "        self.results = None\n",
    "        self.get_data()\n",
    "        \n",
    "        \n",
    "    def __repr__ (self):\n",
    "        rep = \"MLBacktester(symbol = {}, start = {}, end = {}, tc = {})\"\n",
    "        return rep.format(self.symbol, self.start, self.end, self.tc)\n",
    "    \n",
    "    def get_data(self):\n",
    "        raw = pd.read_csv(\"five_minute_pairs.csv\", parse_dates=[\"time\"], index_col=[\"time\"])\n",
    "        raw = raw[self.symbol].to_frame().dropna()\n",
    "        raw = raw.loc[self.start:self.end].copy()\n",
    "        raw.rename(columns={self.symbol:\"price\"}, inplace = True)\n",
    "        raw[\"returns\"] = np.log(raw/ raw.shift(1))\n",
    "        self.data = raw\n",
    "    \n",
    "    def split_data(self, start, end):\n",
    "        data = self.data.loc[start:end].copy()\n",
    "        return data\n",
    "    \n",
    "    def prepare_features(self, start, end):\n",
    "        self.data_subset = self.split_data(start, end)\n",
    "        self.feature_columns = []\n",
    "        \n",
    "        for lag in range(1, self.lags + 1):\n",
    "            col = \"lag{}\".format(lag)\n",
    "            self.data_subset[col] = self.data_subset[\"returns\"].shift(lag)\n",
    "            self.feature_columns.append(col)\n",
    "        self.data_subset.dropna(inplace=True)\n",
    "    \n",
    "    def model_fit(self, start, end):\n",
    "        self.prepare_features(start, end)\n",
    "        self.model.fit(self.data_subset[self.feature_columns], np.sign(self.data_subset[\"returns\"]))\n",
    "        \n",
    "    def test_strategy(self, train_ratio=0.7, lags = 5):\n",
    "        self.lags = lags\n",
    "\n",
    "        full_data = self.data.copy().dropna()\n",
    "        split_index = int(len(full_data)*train_ratio)\n",
    "        split_date = full_data.index[split_index - 1]\n",
    "        train_start = full_data.index[0]\n",
    "        test_end = full_data.index[-1]\n",
    "        \n",
    "        self.model_fit(train_start, split_date)\n",
    "        \n",
    "        self.prepare_features(split_date, test_end)\n",
    "        \n",
    "        predict = self.model.predict(self.data_subset[self.feature_columns])\n",
    "        self.data_subset[\"pred\"] = predict\n",
    "        \n",
    "        self.data_subset[\"strategy\"] = self.data_subset[\"pred\"] * self.data_subset[\"returns\"]\n",
    "        \n",
    "        self.data_subset[\"trades\"] = self.data_subset[\"pred\"].diff().fillna(0).abs()\n",
    "        \n",
    "        self.data_subset.strategy = self.data_subset.strategy - self.data_subset.trades * self.tc\n",
    "        \n",
    "        self.data_subset[\"creturns\"] = self.data_subset[\"returns\"].cumsum().apply(np.exp)\n",
    "        self.data_subset[\"cstrategy\"] = self.data_subset['strategy'].cumsum().apply(np.exp)\n",
    "        self.results = self.data_subset\n",
    "        \n",
    "        perf = self.results[\"cstrategy\"].iloc[-1] # absolute performance of the strategy\n",
    "        outperf = perf - self.results[\"creturns\"].iloc[-1] # out-/underperformance of strategy\n",
    "        \n",
    "        return round(perf, 6), round(outperf, 6)\n",
    "    \n",
    "    def plot_results(self):\n",
    "\n",
    "        if self.results is None:\n",
    "            print(\"Run test_strategy() first.\")\n",
    "        else:\n",
    "            title = \"Logistic Regression: {} | TC = {}\".format(self.symbol, self.tc)\n",
    "            self.results[[\"creturns\", \"cstrategy\"]].plot(title=title, figsize=(12, 8))"
   ]
  },
  {
   "cell_type": "code",
   "execution_count": 76,
   "metadata": {},
   "outputs": [],
   "source": [
    "symbol = \"EURUSD\"\n",
    "ptc = 0.00007"
   ]
  },
  {
   "cell_type": "code",
   "execution_count": 77,
   "metadata": {},
   "outputs": [],
   "source": [
    "ml = MLBacktester(symbol, \"2019-01-01\", \"2020-08-31\", ptc)"
   ]
  },
  {
   "cell_type": "code",
   "execution_count": 78,
   "metadata": {},
   "outputs": [
    {
     "data": {
      "text/plain": [
       "MLBacktester(symbol = EURUSD, start = 2019-01-01, end = 2020-08-31, tc = 7e-05)"
      ]
     },
     "execution_count": 78,
     "metadata": {},
     "output_type": "execute_result"
    }
   ],
   "source": [
    "ml"
   ]
  },
  {
   "cell_type": "code",
   "execution_count": 79,
   "metadata": {},
   "outputs": [
    {
     "data": {
      "text/html": [
       "<div>\n",
       "<style scoped>\n",
       "    .dataframe tbody tr th:only-of-type {\n",
       "        vertical-align: middle;\n",
       "    }\n",
       "\n",
       "    .dataframe tbody tr th {\n",
       "        vertical-align: top;\n",
       "    }\n",
       "\n",
       "    .dataframe thead th {\n",
       "        text-align: right;\n",
       "    }\n",
       "</style>\n",
       "<table border=\"1\" class=\"dataframe\">\n",
       "  <thead>\n",
       "    <tr style=\"text-align: right;\">\n",
       "      <th></th>\n",
       "      <th>price</th>\n",
       "      <th>returns</th>\n",
       "    </tr>\n",
       "    <tr>\n",
       "      <th>time</th>\n",
       "      <th></th>\n",
       "      <th></th>\n",
       "    </tr>\n",
       "  </thead>\n",
       "  <tbody>\n",
       "    <tr>\n",
       "      <th>2019-01-01 22:00:00+00:00</th>\n",
       "      <td>1.146580</td>\n",
       "      <td>NaN</td>\n",
       "    </tr>\n",
       "    <tr>\n",
       "      <th>2019-01-01 22:05:00+00:00</th>\n",
       "      <td>1.146350</td>\n",
       "      <td>-0.000201</td>\n",
       "    </tr>\n",
       "    <tr>\n",
       "      <th>2019-01-01 22:10:00+00:00</th>\n",
       "      <td>1.146320</td>\n",
       "      <td>-0.000026</td>\n",
       "    </tr>\n",
       "    <tr>\n",
       "      <th>2019-01-01 22:15:00+00:00</th>\n",
       "      <td>1.146320</td>\n",
       "      <td>0.000000</td>\n",
       "    </tr>\n",
       "    <tr>\n",
       "      <th>2019-01-01 22:20:00+00:00</th>\n",
       "      <td>1.146530</td>\n",
       "      <td>0.000183</td>\n",
       "    </tr>\n",
       "    <tr>\n",
       "      <th>...</th>\n",
       "      <td>...</td>\n",
       "      <td>...</td>\n",
       "    </tr>\n",
       "    <tr>\n",
       "      <th>2020-08-30 23:35:00+00:00</th>\n",
       "      <td>1.190895</td>\n",
       "      <td>-0.000080</td>\n",
       "    </tr>\n",
       "    <tr>\n",
       "      <th>2020-08-30 23:40:00+00:00</th>\n",
       "      <td>1.191240</td>\n",
       "      <td>0.000290</td>\n",
       "    </tr>\n",
       "    <tr>\n",
       "      <th>2020-08-30 23:45:00+00:00</th>\n",
       "      <td>1.191515</td>\n",
       "      <td>0.000231</td>\n",
       "    </tr>\n",
       "    <tr>\n",
       "      <th>2020-08-30 23:50:00+00:00</th>\n",
       "      <td>1.191685</td>\n",
       "      <td>0.000143</td>\n",
       "    </tr>\n",
       "    <tr>\n",
       "      <th>2020-08-30 23:55:00+00:00</th>\n",
       "      <td>1.191715</td>\n",
       "      <td>0.000025</td>\n",
       "    </tr>\n",
       "  </tbody>\n",
       "</table>\n",
       "<p>123350 rows × 2 columns</p>\n",
       "</div>"
      ],
      "text/plain": [
       "                              price   returns\n",
       "time                                         \n",
       "2019-01-01 22:00:00+00:00  1.146580       NaN\n",
       "2019-01-01 22:05:00+00:00  1.146350 -0.000201\n",
       "2019-01-01 22:10:00+00:00  1.146320 -0.000026\n",
       "2019-01-01 22:15:00+00:00  1.146320  0.000000\n",
       "2019-01-01 22:20:00+00:00  1.146530  0.000183\n",
       "...                             ...       ...\n",
       "2020-08-30 23:35:00+00:00  1.190895 -0.000080\n",
       "2020-08-30 23:40:00+00:00  1.191240  0.000290\n",
       "2020-08-30 23:45:00+00:00  1.191515  0.000231\n",
       "2020-08-30 23:50:00+00:00  1.191685  0.000143\n",
       "2020-08-30 23:55:00+00:00  1.191715  0.000025\n",
       "\n",
       "[123350 rows x 2 columns]"
      ]
     },
     "execution_count": 79,
     "metadata": {},
     "output_type": "execute_result"
    }
   ],
   "source": [
    "ml.data"
   ]
  },
  {
   "cell_type": "code",
   "execution_count": 80,
   "metadata": {},
   "outputs": [
    {
     "data": {
      "text/plain": [
       "(0.176822, -0.893132)"
      ]
     },
     "execution_count": 80,
     "metadata": {},
     "output_type": "execute_result"
    }
   ],
   "source": [
    "ml.test_strategy(train_ratio = 0.7, lags = 5)"
   ]
  },
  {
   "cell_type": "code",
   "execution_count": 81,
   "metadata": {},
   "outputs": [
    {
     "data": {
      "image/png": "[encoded data removed]",
      "text/plain": [
       "<Figure size 1200x800 with 1 Axes>"
      ]
     },
     "metadata": {},
     "output_type": "display_data"
    }
   ],
   "source": [
    "ml.plot_results()"
   ]
  },
  {
   "cell_type": "code",
   "execution_count": 82,
   "metadata": {},
   "outputs": [
    {
     "data": {
      "text/html": [
       "<div>\n",
       "<style scoped>\n",
       "    .dataframe tbody tr th:only-of-type {\n",
       "        vertical-align: middle;\n",
       "    }\n",
       "\n",
       "    .dataframe tbody tr th {\n",
       "        vertical-align: top;\n",
       "    }\n",
       "\n",
       "    .dataframe thead th {\n",
       "        text-align: right;\n",
       "    }\n",
       "</style>\n",
       "<table border=\"1\" class=\"dataframe\">\n",
       "  <thead>\n",
       "    <tr style=\"text-align: right;\">\n",
       "      <th></th>\n",
       "      <th>price</th>\n",
       "      <th>returns</th>\n",
       "      <th>lag1</th>\n",
       "      <th>lag2</th>\n",
       "      <th>lag3</th>\n",
       "      <th>lag4</th>\n",
       "      <th>lag5</th>\n",
       "      <th>pred</th>\n",
       "      <th>strategy</th>\n",
       "      <th>trades</th>\n",
       "      <th>creturns</th>\n",
       "      <th>cstrategy</th>\n",
       "    </tr>\n",
       "    <tr>\n",
       "      <th>time</th>\n",
       "      <th></th>\n",
       "      <th></th>\n",
       "      <th></th>\n",
       "      <th></th>\n",
       "      <th></th>\n",
       "      <th></th>\n",
       "      <th></th>\n",
       "      <th></th>\n",
       "      <th></th>\n",
       "      <th></th>\n",
       "      <th></th>\n",
       "      <th></th>\n",
       "    </tr>\n",
       "  </thead>\n",
       "  <tbody>\n",
       "    <tr>\n",
       "      <th>2020-03-03 00:20:00+00:00</th>\n",
       "      <td>1.113645</td>\n",
       "      <td>-0.000139</td>\n",
       "      <td>-0.000206</td>\n",
       "      <td>-0.000135</td>\n",
       "      <td>-0.000265</td>\n",
       "      <td>0.000027</td>\n",
       "      <td>0.000058</td>\n",
       "      <td>1.0</td>\n",
       "      <td>-0.000139</td>\n",
       "      <td>0.0</td>\n",
       "      <td>0.999861</td>\n",
       "      <td>0.999861</td>\n",
       "    </tr>\n",
       "    <tr>\n",
       "      <th>2020-03-03 00:25:00+00:00</th>\n",
       "      <td>1.113745</td>\n",
       "      <td>0.000090</td>\n",
       "      <td>-0.000139</td>\n",
       "      <td>-0.000206</td>\n",
       "      <td>-0.000135</td>\n",
       "      <td>-0.000265</td>\n",
       "      <td>0.000027</td>\n",
       "      <td>1.0</td>\n",
       "      <td>0.000090</td>\n",
       "      <td>0.0</td>\n",
       "      <td>0.999951</td>\n",
       "      <td>0.999951</td>\n",
       "    </tr>\n",
       "    <tr>\n",
       "      <th>2020-03-03 00:30:00+00:00</th>\n",
       "      <td>1.113755</td>\n",
       "      <td>0.000009</td>\n",
       "      <td>0.000090</td>\n",
       "      <td>-0.000139</td>\n",
       "      <td>-0.000206</td>\n",
       "      <td>-0.000135</td>\n",
       "      <td>-0.000265</td>\n",
       "      <td>1.0</td>\n",
       "      <td>0.000009</td>\n",
       "      <td>0.0</td>\n",
       "      <td>0.999960</td>\n",
       "      <td>0.999960</td>\n",
       "    </tr>\n",
       "    <tr>\n",
       "      <th>2020-03-03 00:35:00+00:00</th>\n",
       "      <td>1.113770</td>\n",
       "      <td>0.000013</td>\n",
       "      <td>0.000009</td>\n",
       "      <td>0.000090</td>\n",
       "      <td>-0.000139</td>\n",
       "      <td>-0.000206</td>\n",
       "      <td>-0.000135</td>\n",
       "      <td>1.0</td>\n",
       "      <td>0.000013</td>\n",
       "      <td>0.0</td>\n",
       "      <td>0.999973</td>\n",
       "      <td>0.999973</td>\n",
       "    </tr>\n",
       "    <tr>\n",
       "      <th>2020-03-03 00:40:00+00:00</th>\n",
       "      <td>1.113450</td>\n",
       "      <td>-0.000287</td>\n",
       "      <td>0.000013</td>\n",
       "      <td>0.000009</td>\n",
       "      <td>0.000090</td>\n",
       "      <td>-0.000139</td>\n",
       "      <td>-0.000206</td>\n",
       "      <td>1.0</td>\n",
       "      <td>-0.000287</td>\n",
       "      <td>0.0</td>\n",
       "      <td>0.999686</td>\n",
       "      <td>0.999686</td>\n",
       "    </tr>\n",
       "    <tr>\n",
       "      <th>...</th>\n",
       "      <td>...</td>\n",
       "      <td>...</td>\n",
       "      <td>...</td>\n",
       "      <td>...</td>\n",
       "      <td>...</td>\n",
       "      <td>...</td>\n",
       "      <td>...</td>\n",
       "      <td>...</td>\n",
       "      <td>...</td>\n",
       "      <td>...</td>\n",
       "      <td>...</td>\n",
       "      <td>...</td>\n",
       "    </tr>\n",
       "    <tr>\n",
       "      <th>2020-08-30 23:35:00+00:00</th>\n",
       "      <td>1.190895</td>\n",
       "      <td>-0.000080</td>\n",
       "      <td>-0.000092</td>\n",
       "      <td>0.000298</td>\n",
       "      <td>0.000046</td>\n",
       "      <td>0.000000</td>\n",
       "      <td>-0.000151</td>\n",
       "      <td>1.0</td>\n",
       "      <td>-0.000220</td>\n",
       "      <td>2.0</td>\n",
       "      <td>1.069218</td>\n",
       "      <td>0.176866</td>\n",
       "    </tr>\n",
       "    <tr>\n",
       "      <th>2020-08-30 23:40:00+00:00</th>\n",
       "      <td>1.191240</td>\n",
       "      <td>0.000290</td>\n",
       "      <td>-0.000080</td>\n",
       "      <td>-0.000092</td>\n",
       "      <td>0.000298</td>\n",
       "      <td>0.000046</td>\n",
       "      <td>0.000000</td>\n",
       "      <td>1.0</td>\n",
       "      <td>0.000290</td>\n",
       "      <td>0.0</td>\n",
       "      <td>1.069528</td>\n",
       "      <td>0.176917</td>\n",
       "    </tr>\n",
       "    <tr>\n",
       "      <th>2020-08-30 23:45:00+00:00</th>\n",
       "      <td>1.191515</td>\n",
       "      <td>0.000231</td>\n",
       "      <td>0.000290</td>\n",
       "      <td>-0.000080</td>\n",
       "      <td>-0.000092</td>\n",
       "      <td>0.000298</td>\n",
       "      <td>0.000046</td>\n",
       "      <td>-1.0</td>\n",
       "      <td>-0.000371</td>\n",
       "      <td>2.0</td>\n",
       "      <td>1.069775</td>\n",
       "      <td>0.176852</td>\n",
       "    </tr>\n",
       "    <tr>\n",
       "      <th>2020-08-30 23:50:00+00:00</th>\n",
       "      <td>1.191685</td>\n",
       "      <td>0.000143</td>\n",
       "      <td>0.000231</td>\n",
       "      <td>0.000290</td>\n",
       "      <td>-0.000080</td>\n",
       "      <td>-0.000092</td>\n",
       "      <td>0.000298</td>\n",
       "      <td>-1.0</td>\n",
       "      <td>-0.000143</td>\n",
       "      <td>0.0</td>\n",
       "      <td>1.069927</td>\n",
       "      <td>0.176826</td>\n",
       "    </tr>\n",
       "    <tr>\n",
       "      <th>2020-08-30 23:55:00+00:00</th>\n",
       "      <td>1.191715</td>\n",
       "      <td>0.000025</td>\n",
       "      <td>0.000143</td>\n",
       "      <td>0.000231</td>\n",
       "      <td>0.000290</td>\n",
       "      <td>-0.000080</td>\n",
       "      <td>-0.000092</td>\n",
       "      <td>-1.0</td>\n",
       "      <td>-0.000025</td>\n",
       "      <td>0.0</td>\n",
       "      <td>1.069954</td>\n",
       "      <td>0.176822</td>\n",
       "    </tr>\n",
       "  </tbody>\n",
       "</table>\n",
       "<p>37001 rows × 12 columns</p>\n",
       "</div>"
      ],
      "text/plain": [
       "                              price   returns      lag1      lag2      lag3  \\\n",
       "time                                                                          \n",
       "2020-03-03 00:20:00+00:00  1.113645 -0.000139 -0.000206 -0.000135 -0.000265   \n",
       "2020-03-03 00:25:00+00:00  1.113745  0.000090 -0.000139 -0.000206 -0.000135   \n",
       "2020-03-03 00:30:00+00:00  1.113755  0.000009  0.000090 -0.000139 -0.000206   \n",
       "2020-03-03 00:35:00+00:00  1.113770  0.000013  0.000009  0.000090 -0.000139   \n",
       "2020-03-03 00:40:00+00:00  1.113450 -0.000287  0.000013  0.000009  0.000090   \n",
       "...                             ...       ...       ...       ...       ...   \n",
       "2020-08-30 23:35:00+00:00  1.190895 -0.000080 -0.000092  0.000298  0.000046   \n",
       "2020-08-30 23:40:00+00:00  1.191240  0.000290 -0.000080 -0.000092  0.000298   \n",
       "2020-08-30 23:45:00+00:00  1.191515  0.000231  0.000290 -0.000080 -0.000092   \n",
       "2020-08-30 23:50:00+00:00  1.191685  0.000143  0.000231  0.000290 -0.000080   \n",
       "2020-08-30 23:55:00+00:00  1.191715  0.000025  0.000143  0.000231  0.000290   \n",
       "\n",
       "                               lag4      lag5  pred  strategy  trades  \\\n",
       "time                                                                    \n",
       "2020-03-03 00:20:00+00:00  0.000027  0.000058   1.0 -0.000139     0.0   \n",
       "2020-03-03 00:25:00+00:00 -0.000265  0.000027   1.0  0.000090     0.0   \n",
       "2020-03-03 00:30:00+00:00 -0.000135 -0.000265   1.0  0.000009     0.0   \n",
       "2020-03-03 00:35:00+00:00 -0.000206 -0.000135   1.0  0.000013     0.0   \n",
       "2020-03-03 00:40:00+00:00 -0.000139 -0.000206   1.0 -0.000287     0.0   \n",
       "...                             ...       ...   ...       ...     ...   \n",
       "2020-08-30 23:35:00+00:00  0.000000 -0.000151   1.0 -0.000220     2.0   \n",
       "2020-08-30 23:40:00+00:00  0.000046  0.000000   1.0  0.000290     0.0   \n",
       "2020-08-30 23:45:00+00:00  0.000298  0.000046  -1.0 -0.000371     2.0   \n",
       "2020-08-30 23:50:00+00:00 -0.000092  0.000298  -1.0 -0.000143     0.0   \n",
       "2020-08-30 23:55:00+00:00 -0.000080 -0.000092  -1.0 -0.000025     0.0   \n",
       "\n",
       "                           creturns  cstrategy  \n",
       "time                                            \n",
       "2020-03-03 00:20:00+00:00  0.999861   0.999861  \n",
       "2020-03-03 00:25:00+00:00  0.999951   0.999951  \n",
       "2020-03-03 00:30:00+00:00  0.999960   0.999960  \n",
       "2020-03-03 00:35:00+00:00  0.999973   0.999973  \n",
       "2020-03-03 00:40:00+00:00  0.999686   0.999686  \n",
       "...                             ...        ...  \n",
       "2020-08-30 23:35:00+00:00  1.069218   0.176866  \n",
       "2020-08-30 23:40:00+00:00  1.069528   0.176917  \n",
       "2020-08-30 23:45:00+00:00  1.069775   0.176852  \n",
       "2020-08-30 23:50:00+00:00  1.069927   0.176826  \n",
       "2020-08-30 23:55:00+00:00  1.069954   0.176822  \n",
       "\n",
       "[37001 rows x 12 columns]"
      ]
     },
     "execution_count": 82,
     "metadata": {},
     "output_type": "execute_result"
    }
   ],
   "source": [
    "ml.results"
   ]
  },
  {
   "cell_type": "markdown",
   "metadata": {},
   "source": [
    "__The optimal Number of Lags__"
   ]
  },
  {
   "cell_type": "code",
   "execution_count": 84,
   "metadata": {},
   "outputs": [
    {
     "name": "stdout",
     "output_type": "stream",
     "text": [
      "1 (0.099865, -0.96947)\n",
      "2 (0.155496, -0.91381)\n",
      "3 (0.152651, -0.916938)\n",
      "4 (0.166359, -0.903375)\n",
      "5 (0.176822, -0.893132)\n",
      "6 (0.182555, -0.887548)\n",
      "7 (0.18158, -0.888427)\n",
      "8 (0.182021, -0.887977)\n",
      "9 (0.192528, -0.877455)\n",
      "10 (0.185703, -0.884588)\n",
      "11 (0.191589, -0.878793)\n",
      "12 (0.187334, -0.883111)\n",
      "13 (0.185525, -0.884953)\n",
      "14 (0.180646, -0.89)\n",
      "15 (0.180219, -0.890533)\n",
      "16 (0.178193, -0.893131)\n",
      "17 (0.177386, -0.894054)\n",
      "18 (0.179068, -0.89191)\n",
      "19 (0.180449, -0.890399)\n",
      "20 (0.180706, -0.890205)\n"
     ]
    }
   ],
   "source": [
    "for lags in range(1, 21):\n",
    "    print(lags, ml.test_strategy(train_ratio = 0.7, lags = lags))"
   ]
  },
  {
   "cell_type": "code",
   "execution_count": 85,
   "metadata": {},
   "outputs": [
    {
     "data": {
      "text/plain": [
       "0.0    22711\n",
       "2.0    14275\n",
       "Name: trades, dtype: int64"
      ]
     },
     "execution_count": 85,
     "metadata": {},
     "output_type": "execute_result"
    }
   ],
   "source": [
    "ml.results.trades.value_counts()"
   ]
  },
  {
   "cell_type": "markdown",
   "metadata": {},
   "source": [
    "### EURAUD"
   ]
  },
  {
   "cell_type": "code",
   "execution_count": 87,
   "metadata": {},
   "outputs": [],
   "source": [
    "symbol = \"EURAUD\"\n",
    "ml = MLBacktester(symbol, \"2019-01-01\", \"2020-08-31\", 0)"
   ]
  },
  {
   "cell_type": "code",
   "execution_count": 88,
   "metadata": {},
   "outputs": [
    {
     "data": {
      "text/plain": [
       "(1.830543, 0.881757)"
      ]
     },
     "execution_count": 88,
     "metadata": {},
     "output_type": "execute_result"
    }
   ],
   "source": [
    "ml.test_strategy(train_ratio = 0.7, lags = 15)"
   ]
  },
  {
   "cell_type": "code",
   "execution_count": 89,
   "metadata": {},
   "outputs": [
    {
     "data": {
      "image/png": "[encoded data removed]",
      "text/plain": [
       "<Figure size 1200x800 with 1 Axes>"
      ]
     },
     "metadata": {},
     "output_type": "display_data"
    }
   ],
   "source": [
    "ml.plot_results()"
   ]
  },
  {
   "cell_type": "markdown",
   "metadata": {},
   "source": [
    "__The optimal Number of Lags__"
   ]
  },
  {
   "cell_type": "code",
   "execution_count": null,
   "metadata": {},
   "outputs": [
    {
     "name": "stdout",
     "output_type": "stream",
     "text": [
      "1 (1.618959, 0.669992)\n",
      "2 (1.700957, 0.751976)\n",
      "3 (1.688437, 0.738829)\n"
     ]
    }
   ],
   "source": [
    "for lags in range(1, 21):\n",
    "    print(lags, ml.test_strategy(train_ratio = 0.7, lags = lags))"
   ]
  },
  {
   "cell_type": "code",
   "execution_count": null,
   "metadata": {},
   "outputs": [],
   "source": []
  }
 ],
 "metadata": {
  "kernelspec": {
   "display_name": "Python 3 (ipykernel)",
   "language": "python",
   "name": "python3"
  },
  "language_info": {
   "codemirror_mode": {
    "name": "ipython",
    "version": 3
   },
   "file_extension": ".py",
   "mimetype": "text/x-python",
   "name": "python",
   "nbconvert_exporter": "python",
   "pygments_lexer": "ipython3",
   "version": "3.9.13"
  }
 },
 "nbformat": 4,
 "nbformat_minor": 4
}
